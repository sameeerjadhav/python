{
 "cells": [
  {
   "cell_type": "code",
   "execution_count": 1,
   "metadata": {
    "collapsed": true
   },
   "outputs": [],
   "source": [
    "import pymysql as sql"
   ]
  },
  {
   "cell_type": "code",
   "execution_count": 2,
   "metadata": {},
   "outputs": [
    {
     "name": "stdout",
     "output_type": "stream",
     "text": [
      "<pymysql.connections.Connection object at 0x000001BC18C313C8>\n"
     ]
    }
   ],
   "source": [
    "import pymysql as sql\n",
    "\n",
    "db = sql.connect(\"localhost\",\"root\",\"\",\"python_demo\")\n",
    "print(db)"
   ]
  },
  {
   "cell_type": "code",
   "execution_count": 3,
   "metadata": {
    "collapsed": true
   },
   "outputs": [],
   "source": [
    "def getDBConnection(ip = \"localhost\",usern = \"root\",passn = \"\", dbname = \"company\"):\n",
    "    try:\n",
    "        import pymysql as sql\n",
    "        db = sql.connect(ip,usern,passn,dbname)#connect with databse which is created in XAMP\n",
    "        cursor = db.cursor() #executing queries on databse\n",
    "    except BaseException as e:\n",
    "        print(e)\n",
    "    else:\n",
    "        print(\"DB connection successfull !\")\n",
    "        return db,cursor\n"
   ]
  },
  {
   "cell_type": "code",
   "execution_count": 4,
   "metadata": {},
   "outputs": [
    {
     "name": "stdout",
     "output_type": "stream",
     "text": [
      "DB connection successfull !\n"
     ]
    },
    {
     "data": {
      "text/plain": [
       "(<pymysql.connections.Connection at 0x1bc18c40f98>,\n",
       " <pymysql.cursors.Cursor at 0x1bc18c5b160>)"
      ]
     },
     "execution_count": 4,
     "metadata": {},
     "output_type": "execute_result"
    }
   ],
   "source": [
    "getDBConnection()"
   ]
  },
  {
   "cell_type": "code",
   "execution_count": 58,
   "metadata": {},
   "outputs": [],
   "source": [
    "#internship project\n",
    "from tkinter import *\n",
    "from tkinter import messagebox\n",
    "import pymysql as sql\n",
    "\n",
    "\n",
    "\n",
    "\n",
    "def uploadData(name,salary,designation):\n",
    "    try:\n",
    "        uname = name\n",
    "        sal = salary\n",
    "        des = designation\n",
    "        db = sql.connect(\"localhost\",\"root\",\"\",\"company\")\n",
    "        cursor = db.cursor()\n",
    "        sql_cmd = \"insert into login(name,salary,designation) values('{}','{}','{}')\".format(uname,sal,des)\n",
    "        cursor.execute(sql_cmd)\n",
    "    except BaseException as e:\n",
    "        print(e)\n",
    "        db.rollback()\n",
    "        msg = messagebox.showinfo(\"Info\",\"Error in upload!\")\n",
    "    else:\n",
    "        db.commit()\n",
    "        if(cursor.rowcount>0):\n",
    "            msg = messagebox.showinfo(\"Info\",\"Data Uploaded!\")\n",
    "    finally:\n",
    "        db.close()\n",
    "        master.destroy()\n",
    "\n",
    "def getEntry():\n",
    "    user = entry1.get()\n",
    "    sal = entry2.get()\n",
    "    des = entry3.get()\n",
    "    uploadData(name = user,salary = sal,designation = des)\n",
    "\n",
    "    \n",
    "def removeData(name):\n",
    "    try:\n",
    "        uname = name\n",
    "        db = sql.connect(\"localhost\",\"root\",\"\",\"company\")\n",
    "        cursor = db.cursor()\n",
    "        sql_cmd = \"remove from company(name) values('{}')\".format(uname)\n",
    "        cursor.execute(sql_cmd)\n",
    "    except BaseException as e:\n",
    "        print(e)\n",
    "        db.rollback()\n",
    "        msg = messagebox.showinfo(\"Info\",\"Error in removal!\")\n",
    "    else:\n",
    "        db.commit()\n",
    "        if(cursor.rowcount>0):\n",
    "            msg = messagebox.showinfo(\"Info\",\"Employee has been fired!\")\n",
    "    finally:\n",
    "        db.close()\n",
    "        master.destroy()\n",
    "\n",
    "def removeEntry():\n",
    "    user = entry1.get()\n",
    "    uploadData(name = user,salary = sal,designation = des)\n",
    "    \n",
    "\n",
    "    \n",
    "master = Tk()\n",
    "master.title(\"Employee Management System\")\n",
    "\n",
    "\n",
    "master.geometry(\"800x500\")\n",
    "master.configure(background=\"Yellow\")\n",
    "\n",
    "Label(master,text=\"Employee Management System\",font=\"Arial\",justify = 'center').grid(row=1)\n",
    "\n",
    "Label(master,text=\"Name\",font=\"Arial\").grid(row=10)\n",
    "Label(master,text=\"Salary\",font=\"Arial\").grid(row=11)\n",
    "Label(master,text=\"Designation\",font=\"Arial\").grid(row=12)\n",
    "\n",
    "entry1 = Entry(master,width=30)\n",
    "entry2 = Entry(master,width=30)\n",
    "entry3 = Entry(master,width=30)\n",
    "\n",
    "entry1.grid(row=10, column=1)\n",
    "entry2.grid(row=11, column=1)\n",
    "entry3.grid(row=12, column=1)\n",
    "\n",
    "button1 = Button(master,text = \"Add Employee\", activebackground = \"Blue\",activeforeground = \"Red\")\n",
    "\n",
    "button1.grid(row=13,column=1)\n",
    "button1.config(command = getEntry)\n",
    "\n",
    "\n",
    "\n",
    "\n",
    "    \n",
    "Label(master,text=\"Enter name of Employee to be fired\",font=\"Arial\").grid(row=14)\n",
    "\n",
    "entry4 = Entry(master,width=30)\n",
    "\n",
    "entry4.grid(row=14, column=1)\n",
    "\n",
    "button2 = Button(master,text = \"Fire Employee\", activebackground = \"Blue\",activeforeground = \"Red\")\n",
    "\n",
    "button2.grid(row=15,column=1)\n",
    "button2.config(command = removeEntry)\n",
    "\n",
    "\n",
    "mainloop()\n"
   ]
  }
 ],
 "metadata": {
  "kernelspec": {
   "display_name": "Python 3",
   "language": "python",
   "name": "python3"
  },
  "language_info": {
   "codemirror_mode": {
    "name": "ipython",
    "version": 3
   },
   "file_extension": ".py",
   "mimetype": "text/x-python",
   "name": "python",
   "nbconvert_exporter": "python",
   "pygments_lexer": "ipython3",
   "version": "3.6.1"
  }
 },
 "nbformat": 4,
 "nbformat_minor": 2
}
